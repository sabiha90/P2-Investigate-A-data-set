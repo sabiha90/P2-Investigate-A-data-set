{
 "cells": [
  {
   "cell_type": "code",
   "execution_count": null,
   "metadata": {
    "collapsed": true
   },
   "outputs": [],
   "source": [
    "#INVESTIGATE A DATASET"
   ]
  },
  {
   "cell_type": "code",
   "execution_count": 4,
   "metadata": {
    "collapsed": false
   },
   "outputs": [],
   "source": [
    "#Wrangling Phase\n",
    "#Cleaning the data\n",
    "#loading the data into Pandas dataframe\n",
    "import pandas as pd\n",
    "\n",
    "titanic_data = pd.read_csv('/Users/sabihabarlaskar/Downloads/python/titanic_data.csv') \n",
    "titanic_data.fillna(0, inplace=True) # removing all nan values\n"
   ]
  },
  {
   "cell_type": "code",
   "execution_count": 107,
   "metadata": {
    "collapsed": false
   },
   "outputs": [],
   "source": [
    "#Function to clean any unwanted characters from the data\n",
    "def clean_data(name):\n",
    "    clean_names = name.str.replace(r\"\\(.*\\)\",\"\")\n",
    "    return clean_names\n",
    "clean_names = clean_data(titanic_data['Name'])\n",
    "clean_names"
   ]
  },
  {
   "cell_type": "code",
   "execution_count": null,
   "metadata": {
    "collapsed": true
   },
   "outputs": [],
   "source": [
    "#displaying the names as first name , last name and finding out the surviors\n",
    "name_of_survivor = titanic_data[['Name','Survived']]\n",
    "survivors = name_of_survivor.loc[name_of_survivor['Survived']==1]\n",
    "names=survivors['Name']\n",
    "clean_data(names)\n"
   ]
  },
  {
   "cell_type": "code",
   "execution_count": null,
   "metadata": {
    "collapsed": true
   },
   "outputs": [],
   "source": [
    "def reverse_name(name):\n",
    "    split_name = name.split(\" \")\n",
    "    addr = split_name[0]\n",
    "    last_name = split_name[1]\n",
    "    first_name = split_name[2]\n",
    "    return last_name + \"  \" + first_name +\"  \" + addr\n",
    "\n",
    "\n",
    "def reverse_names(names):\n",
    "    return names.apply(reverse_name)\n",
    "\n",
    "name_list = reverse_names(clean_names)\n",
    "\n",
    "name_list"
   ]
  },
  {
   "cell_type": "code",
   "execution_count": 153,
   "metadata": {
    "collapsed": false
   },
   "outputs": [
    {
     "data": {
      "text/html": [
       "<div>\n",
       "<table border=\"1\" class=\"dataframe\">\n",
       "  <thead>\n",
       "    <tr style=\"text-align: right;\">\n",
       "      <th></th>\n",
       "      <th>PassengerId</th>\n",
       "      <th>Survived</th>\n",
       "      <th>Pclass</th>\n",
       "      <th>Age</th>\n",
       "      <th>SibSp</th>\n",
       "      <th>Parch</th>\n",
       "      <th>Fare</th>\n",
       "    </tr>\n",
       "  </thead>\n",
       "  <tbody>\n",
       "    <tr>\n",
       "      <th>count</th>\n",
       "      <td>891.000000</td>\n",
       "      <td>891.000000</td>\n",
       "      <td>891.000000</td>\n",
       "      <td>891.000000</td>\n",
       "      <td>891.000000</td>\n",
       "      <td>891.000000</td>\n",
       "      <td>891.000000</td>\n",
       "    </tr>\n",
       "    <tr>\n",
       "      <th>mean</th>\n",
       "      <td>446.000000</td>\n",
       "      <td>0.383838</td>\n",
       "      <td>2.308642</td>\n",
       "      <td>23.799293</td>\n",
       "      <td>0.523008</td>\n",
       "      <td>0.381594</td>\n",
       "      <td>32.204208</td>\n",
       "    </tr>\n",
       "    <tr>\n",
       "      <th>std</th>\n",
       "      <td>257.353842</td>\n",
       "      <td>0.486592</td>\n",
       "      <td>0.836071</td>\n",
       "      <td>17.596074</td>\n",
       "      <td>1.102743</td>\n",
       "      <td>0.806057</td>\n",
       "      <td>49.693429</td>\n",
       "    </tr>\n",
       "    <tr>\n",
       "      <th>min</th>\n",
       "      <td>1.000000</td>\n",
       "      <td>0.000000</td>\n",
       "      <td>1.000000</td>\n",
       "      <td>0.000000</td>\n",
       "      <td>0.000000</td>\n",
       "      <td>0.000000</td>\n",
       "      <td>0.000000</td>\n",
       "    </tr>\n",
       "    <tr>\n",
       "      <th>25%</th>\n",
       "      <td>223.500000</td>\n",
       "      <td>0.000000</td>\n",
       "      <td>2.000000</td>\n",
       "      <td>6.000000</td>\n",
       "      <td>0.000000</td>\n",
       "      <td>0.000000</td>\n",
       "      <td>7.910400</td>\n",
       "    </tr>\n",
       "    <tr>\n",
       "      <th>50%</th>\n",
       "      <td>446.000000</td>\n",
       "      <td>0.000000</td>\n",
       "      <td>3.000000</td>\n",
       "      <td>24.000000</td>\n",
       "      <td>0.000000</td>\n",
       "      <td>0.000000</td>\n",
       "      <td>14.454200</td>\n",
       "    </tr>\n",
       "    <tr>\n",
       "      <th>75%</th>\n",
       "      <td>668.500000</td>\n",
       "      <td>1.000000</td>\n",
       "      <td>3.000000</td>\n",
       "      <td>35.000000</td>\n",
       "      <td>1.000000</td>\n",
       "      <td>0.000000</td>\n",
       "      <td>31.000000</td>\n",
       "    </tr>\n",
       "    <tr>\n",
       "      <th>max</th>\n",
       "      <td>891.000000</td>\n",
       "      <td>1.000000</td>\n",
       "      <td>3.000000</td>\n",
       "      <td>80.000000</td>\n",
       "      <td>8.000000</td>\n",
       "      <td>6.000000</td>\n",
       "      <td>512.329200</td>\n",
       "    </tr>\n",
       "  </tbody>\n",
       "</table>\n",
       "</div>"
      ],
      "text/plain": [
       "       PassengerId    Survived      Pclass         Age       SibSp  \\\n",
       "count   891.000000  891.000000  891.000000  891.000000  891.000000   \n",
       "mean    446.000000    0.383838    2.308642   23.799293    0.523008   \n",
       "std     257.353842    0.486592    0.836071   17.596074    1.102743   \n",
       "min       1.000000    0.000000    1.000000    0.000000    0.000000   \n",
       "25%     223.500000    0.000000    2.000000    6.000000    0.000000   \n",
       "50%     446.000000    0.000000    3.000000   24.000000    0.000000   \n",
       "75%     668.500000    1.000000    3.000000   35.000000    1.000000   \n",
       "max     891.000000    1.000000    3.000000   80.000000    8.000000   \n",
       "\n",
       "            Parch        Fare  \n",
       "count  891.000000  891.000000  \n",
       "mean     0.381594   32.204208  \n",
       "std      0.806057   49.693429  \n",
       "min      0.000000    0.000000  \n",
       "25%      0.000000    7.910400  \n",
       "50%      0.000000   14.454200  \n",
       "75%      0.000000   31.000000  \n",
       "max      6.000000  512.329200  "
      ]
     },
     "execution_count": 153,
     "metadata": {},
     "output_type": "execute_result"
    }
   ],
   "source": [
    "#Statistical summary\n",
    "\n",
    "titanic_data.describe()"
   ]
  },
  {
   "cell_type": "code",
   "execution_count": 6,
   "metadata": {
    "collapsed": true
   },
   "outputs": [],
   "source": [
    "#Explore Phase"
   ]
  },
  {
   "cell_type": "code",
   "execution_count": 7,
   "metadata": {
    "collapsed": false
   },
   "outputs": [
    {
     "data": {
      "text/plain": [
       "891"
      ]
     },
     "execution_count": 7,
     "metadata": {},
     "output_type": "execute_result"
    }
   ],
   "source": [
    "#Finding the total of passengers aboard\n",
    "len(titanic_data['PassengerId'].unique())"
   ]
  },
  {
   "cell_type": "code",
   "execution_count": 204,
   "metadata": {
    "collapsed": false
   },
   "outputs": [
    {
     "data": {
      "text/plain": [
       "342"
      ]
     },
     "execution_count": 204,
     "metadata": {},
     "output_type": "execute_result"
    }
   ],
   "source": [
    "#total survivors and total deaths. \n",
    "survivors = titanic_data['Survived'].sum()\n",
    "#survivors.sum()\n",
    "survivors"
   ]
  },
  {
   "cell_type": "code",
   "execution_count": 205,
   "metadata": {
    "collapsed": false
   },
   "outputs": [
    {
     "data": {
      "text/plain": [
       "549"
      ]
     },
     "execution_count": 205,
     "metadata": {},
     "output_type": "execute_result"
    }
   ],
   "source": [
    "#total deaths\n",
    "death = titanic_data.loc[titanic_data['Survived']==0]\n",
    "len(death)"
   ]
  },
  {
   "cell_type": "code",
   "execution_count": 8,
   "metadata": {
    "collapsed": false
   },
   "outputs": [],
   "source": [
    "#Saving two columns of data into a data frame\n",
    "survival_class = titanic_data[['Pclass','Survived']]\n"
   ]
  },
  {
   "cell_type": "code",
   "execution_count": 9,
   "metadata": {
    "collapsed": false
   },
   "outputs": [
    {
     "name": "stdout",
     "output_type": "stream",
     "text": [
      "119\n"
     ]
    }
   ],
   "source": [
    "#Total number of survivors of pclass 3\n",
    "pclass_3_survivor = survival_class.loc[survival_class['Pclass'] == 3].sum()[1]\n",
    "print pclass_3_survivor"
   ]
  },
  {
   "cell_type": "code",
   "execution_count": 10,
   "metadata": {
    "collapsed": false
   },
   "outputs": [
    {
     "name": "stdout",
     "output_type": "stream",
     "text": [
      "136\n"
     ]
    }
   ],
   "source": [
    "#Total number of survivors of pclass 2\n",
    "pclass_1_survivor = survival_class.loc[survival_class['Pclass'] == 1].sum()[1]\n",
    "print pclass_1_survivor"
   ]
  },
  {
   "cell_type": "code",
   "execution_count": 11,
   "metadata": {
    "collapsed": false
   },
   "outputs": [
    {
     "name": "stdout",
     "output_type": "stream",
     "text": [
      "87\n"
     ]
    }
   ],
   "source": [
    "#Total number of survivors of pclass 1\n",
    "pclass_2_survivor = survival_class.loc[survival_class['Pclass'] == 2].sum()[1]\n",
    "print pclass_2_survivor"
   ]
  },
  {
   "cell_type": "code",
   "execution_count": 12,
   "metadata": {
    "collapsed": false
   },
   "outputs": [
    {
     "name": "stdout",
     "output_type": "stream",
     "text": [
      "Class 1 has maximum survivors = 136\n"
     ]
    }
   ],
   "source": [
    "#Compare which class has the greatest number of survivors\n",
    "import numpy as np\n",
    "survivors = [pclass_1_survivor,pclass_2_survivor,pclass_3_survivor]\n",
    "pclass = titanic_data['Pclass'].unique()\n",
    "ps = np.sort(pclass,axis=-1, kind='quicksort', order=None)\n",
    "class_survivors = pd.Series(survivors,index = ps)\n",
    "def max_survivor(series):\n",
    "    max_class = series.argmax()\n",
    "    max_value = series.loc[max_class]\n",
    "    return (max_class,max_value)\n",
    "max_class,max_value = max_survivor(class_survivors)\n",
    "print \"Class\",max_class,\"has maximum survivors =\",max_value"
   ]
  },
  {
   "cell_type": "code",
   "execution_count": 13,
   "metadata": {
    "collapsed": false
   },
   "outputs": [],
   "source": [
    "#Comparing the ages of the survivors\n",
    "survival_age = titanic_data[['Age','Survived']]"
   ]
  },
  {
   "cell_type": "code",
   "execution_count": 193,
   "metadata": {
    "collapsed": false
   },
   "outputs": [
    {
     "name": "stdout",
     "output_type": "stream",
     "text": [
      "Total number of survivors greater than 30 is: 124.0\n"
     ]
    }
   ],
   "source": [
    "#Survivors whose age is greater than 30\n",
    "\n",
    "survivors_gt_30 = survival_age.loc[survival_age['Age'] > 30].sum()[1]\n",
    "\n",
    "print \"Total number of survivors greater than 30 is:\",survivors_gt_30\n",
    "#passengers_gt_30.Age"
   ]
  },
  {
   "cell_type": "code",
   "execution_count": 76,
   "metadata": {
    "collapsed": false
   },
   "outputs": [
    {
     "name": "stdout",
     "output_type": "stream",
     "text": [
      "Total number of survivors less than 30 is: 208.0\n"
     ]
    }
   ],
   "source": [
    "#Survivors whose age is less than 30\n",
    "\n",
    "survivors_ls_30 = survival_age.loc[survival_age['Age'] < 30].sum()[1]\n",
    "print \"Total number of survivors less than 30 is:\",survivors_ls_30\n"
   ]
  },
  {
   "cell_type": "code",
   "execution_count": 16,
   "metadata": {
    "collapsed": false
   },
   "outputs": [
    {
     "name": "stdout",
     "output_type": "stream",
     "text": [
      "The people whose age  was less than 30 survived more \n"
     ]
    }
   ],
   "source": [
    "#Compare which age has the greatest number of survivors\n",
    "def compare_num(a,b,n,var):\n",
    "    if a > b:\n",
    "        print \"The people whose\",var,\" was less than\",n,\"survived more \"\n",
    "    else:\n",
    "        print \"The people whose\", var,\"was greater than\", n,\" survived more \"\n",
    "compare_num(survivors_ls_30,survivors_gt_30,'30','age')\n"
   ]
  },
  {
   "cell_type": "code",
   "execution_count": 17,
   "metadata": {
    "collapsed": false
   },
   "outputs": [],
   "source": [
    "#Finding out the maximum fare and who paid the highest fare and did she survive\n",
    "survival_fare = titanic_data[['Fare','Survived','Pclass','Name']]"
   ]
  },
  {
   "cell_type": "code",
   "execution_count": 18,
   "metadata": {
    "collapsed": false
   },
   "outputs": [
    {
     "name": "stdout",
     "output_type": "stream",
     "text": [
      "The maximum fare paid by : Ward, Miss. Anna of class  1 is: 512.3292\n"
     ]
    }
   ],
   "source": [
    "max_fare = survival_fare.loc[survival_fare['Fare'].idxmax()]\n",
    "max_fare[3]\n",
    "print \"The maximum fare paid by :\", max_fare[3],\"of class \",max_fare[2],\"is:\",max_fare[0]"
   ]
  },
  {
   "cell_type": "code",
   "execution_count": 19,
   "metadata": {
    "collapsed": false
   },
   "outputs": [],
   "source": [
    "#Checking if people with maximum siblings on board survived\n",
    "survival_sib = titanic_data[['SibSp','Survived']]\n"
   ]
  },
  {
   "cell_type": "code",
   "execution_count": 20,
   "metadata": {
    "collapsed": false
   },
   "outputs": [
    {
     "data": {
      "text/plain": [
       "8"
      ]
     },
     "execution_count": 20,
     "metadata": {},
     "output_type": "execute_result"
    }
   ],
   "source": [
    "max_sibling = survival_sib.loc[survival_sib['SibSp'].idxmax()]\n",
    "max_sib_SP = max_sibling[0]\n",
    "max_sib_SP"
   ]
  },
  {
   "cell_type": "code",
   "execution_count": 21,
   "metadata": {
    "collapsed": false
   },
   "outputs": [
    {
     "name": "stdout",
     "output_type": "stream",
     "text": [
      "People with the maximum number of siblings: 8 , didnot survive\n"
     ]
    }
   ],
   "source": [
    "people_with_max_sibling = titanic_data.loc[titanic_data['SibSp'] == max_sib_SP]\n",
    "survived = people_with_max_sibling['Survived']\n",
    "for s in survived:\n",
    "    if s == 0:\n",
    "        print \"People with the maximum number of siblings:\",max_sib_SP,\", didnot survive\"\n",
    "        break\n",
    "    else:\n",
    "        print \"People survived =\", s\n",
    "        break"
   ]
  },
  {
   "cell_type": "code",
   "execution_count": 22,
   "metadata": {
    "collapsed": false
   },
   "outputs": [],
   "source": [
    "sib_gt_3 = survival_sib.loc[survival_sib['SibSp'] >3].sum()[1]"
   ]
  },
  {
   "cell_type": "code",
   "execution_count": 23,
   "metadata": {
    "collapsed": false
   },
   "outputs": [],
   "source": [
    "sib_ls_3 = survival_sib.loc[survival_sib['SibSp'] <=3].sum()[1]"
   ]
  },
  {
   "cell_type": "code",
   "execution_count": 24,
   "metadata": {
    "collapsed": false
   },
   "outputs": [
    {
     "name": "stdout",
     "output_type": "stream",
     "text": [
      "The people whose siblings  was less than 3 survived more \n"
     ]
    }
   ],
   "source": [
    "compare_num(sib_ls_3,sib_gt_3,'3','siblings')"
   ]
  },
  {
   "cell_type": "code",
   "execution_count": 25,
   "metadata": {
    "collapsed": false
   },
   "outputs": [],
   "source": [
    "#Comparison between male and female survivors\n",
    "survival_gender = titanic_data[['Survived','Sex']]\n"
   ]
  },
  {
   "cell_type": "code",
   "execution_count": 26,
   "metadata": {
    "collapsed": false
   },
   "outputs": [
    {
     "data": {
      "text/plain": [
       "233"
      ]
     },
     "execution_count": 26,
     "metadata": {},
     "output_type": "execute_result"
    }
   ],
   "source": [
    "#females survived \n",
    "females = survival_gender.loc[survival_gender['Sex']=='female'].sum()[0]\n",
    "females"
   ]
  },
  {
   "cell_type": "code",
   "execution_count": 27,
   "metadata": {
    "collapsed": false
   },
   "outputs": [
    {
     "data": {
      "text/plain": [
       "109"
      ]
     },
     "execution_count": 27,
     "metadata": {},
     "output_type": "execute_result"
    }
   ],
   "source": [
    "#males survived \n",
    "males = survival_gender.loc[survival_gender['Sex']=='male'].sum()[0]\n",
    "males"
   ]
  },
  {
   "cell_type": "code",
   "execution_count": 28,
   "metadata": {
    "collapsed": false
   },
   "outputs": [
    {
     "name": "stdout",
     "output_type": "stream",
     "text": [
      "Females survived more than males\n"
     ]
    }
   ],
   "source": [
    "#comparing males and female survivors\n",
    "if males > females:\n",
    "    print \"Males survived more than females\"\n",
    "else:\n",
    "    print \"Females survived more than males\""
   ]
  },
  {
   "cell_type": "code",
   "execution_count": 199,
   "metadata": {
    "collapsed": true
   },
   "outputs": [],
   "source": [
    "#finding correlation\n",
    "def correlation(x, y):\n",
    "    std_x = (x - x.mean())/x.std(ddof=0)\n",
    "    std_y = (y - y.mean())/y.std(ddof=0)\n",
    "    return (std_x * std_y).mean()"
   ]
  },
  {
   "cell_type": "code",
   "execution_count": 203,
   "metadata": {
    "collapsed": false
   },
   "outputs": [
    {
     "name": "stdout",
     "output_type": "stream",
     "text": [
      "-0.338481035961\n",
      "0.0105392158713\n",
      "-0.0353224988857\n"
     ]
    }
   ],
   "source": [
    "pclass = titanic_data['Pclass'] \n",
    "fare = titanic_data['Fare'] \n",
    "survival = titanic_data['Survived']\n",
    "age = titanic_data['Age']\n",
    "sib = titanic_data['SibSp']\n",
    "#print sib\n",
    "print correlation(pclass,survival)\n",
    "print correlation(age,survival)\n",
    "print correlation(sib,survival)\n"
   ]
  },
  {
   "cell_type": "code",
   "execution_count": 218,
   "metadata": {
    "collapsed": false
   },
   "outputs": [],
   "source": [
    "#standardizing all the variables\n",
    "def standardize(x):\n",
    "    std_x = (x - x.mean())/x.std(ddof=0)\n",
    "    return std_x\n",
    "standardize(survival)\n",
    "standardize(age)\n",
    "standardize(sib)\n"
   ]
  },
  {
   "cell_type": "code",
   "execution_count": 215,
   "metadata": {
    "collapsed": false
   },
   "outputs": [],
   "source": [
    "#calculating how many people boarded from which place\n",
    "import numpy as np\n",
    "\n",
    "embarked_city = titanic_data['Embarked'] # \n",
    "survival = titanic_data['Survived']\n",
    "price_cities = titanic_data['Fare']\n",
    "passengers_S = len(survival[embarked_city == 'S'])\n",
    "passengers_C =  len(survival[embarked_city == 'C'])\n",
    "passengers_Q =  len(survival[embarked_city == 'Q'])\n",
    "survive_S = survival[embarked_city == 'S'].sum()\n",
    "survive_C = survival[embarked_city == 'C'].sum()\n",
    "survive_Q = survival[embarked_city == 'Q'].sum()\n",
    "\n",
    "\n"
   ]
  },
  {
   "cell_type": "code",
   "execution_count": 216,
   "metadata": {
    "collapsed": false
   },
   "outputs": [
    {
     "name": "stdout",
     "output_type": "stream",
     "text": [
      "S has total survival 217\n",
      "C has total survival 93\n",
      "Q has total survival 30\n"
     ]
    }
   ],
   "source": [
    "#total survivors from each city\n",
    "def total_info(cities,var,survivor):\n",
    "    for i in range(len(cities)-1):\n",
    "        city = cities[i]\n",
    "        total_survival = survivor[i]\n",
    "        print '{} has total {} {}'.format(city,var,\n",
    "                total_survival)\n",
    "total_info(cities,'survival',people_survived)"
   ]
  },
  {
   "cell_type": "code",
   "execution_count": 38,
   "metadata": {
    "collapsed": true
   },
   "outputs": [],
   "source": [
    "#Which city has maximum survivors\n",
    "def max_people_survived(cities, survival):\n",
    "    max_city = None\n",
    "    max_survival = 0\n",
    "    for i  in range(len(cities)-1):\n",
    "        city = cities[i]\n",
    "        survived = survival[i]\n",
    "        if survived > max_survival:\n",
    "            max_city = city\n",
    "            max_survival = survived\n",
    "    return(max_city,max_survival)"
   ]
  },
  {
   "cell_type": "code",
   "execution_count": 36,
   "metadata": {
    "collapsed": false
   },
   "outputs": [
    {
     "data": {
      "text/plain": [
       "('S', 217)"
      ]
     },
     "execution_count": 36,
     "metadata": {},
     "output_type": "execute_result"
    }
   ],
   "source": [
    "\n",
    "max_people_survived(cities,people_survived)"
   ]
  },
  {
   "cell_type": "code",
   "execution_count": 214,
   "metadata": {
    "collapsed": false
   },
   "outputs": [
    {
     "name": "stdout",
     "output_type": "stream",
     "text": [
      "[ 1.33445673 -0.26174232 -1.07271441]\n"
     ]
    }
   ],
   "source": [
    "#Deviation of the people from the city\n",
    "def standardize_data(values):\n",
    "    standard_values = (values - values.mean())/values.std()\n",
    "    return standard_values\n",
    "print standardize_data(people_survived)\n"
   ]
  },
  {
   "cell_type": "code",
   "execution_count": 219,
   "metadata": {
    "collapsed": false
   },
   "outputs": [],
   "source": [
    "#Calculating family members of each passenger aboard\n",
    "no_of_siblings = pd.Series(titanic_data['SibSp'])\n",
    "no_of_parents = pd.Series(titanic_data['Parch'])\n",
    "total_family = no_of_siblings + no_of_parents\n",
    "names = titanic_data['Name']\n",
    "total_info(names,'family members',total_family)"
   ]
  },
  {
   "cell_type": "code",
   "execution_count": 220,
   "metadata": {
    "collapsed": false
   },
   "outputs": [],
   "source": [
    "#finding out details of people who survived\n",
    "titanic_data.loc[titanic_data['Survived']==1]"
   ]
  }
 ],
 "metadata": {
  "celltoolbar": "Slideshow",
  "kernelspec": {
   "display_name": "Python 2",
   "language": "python",
   "name": "python2"
  },
  "language_info": {
   "codemirror_mode": {
    "name": "ipython",
    "version": 2
   },
   "file_extension": ".py",
   "mimetype": "text/x-python",
   "name": "python",
   "nbconvert_exporter": "python",
   "pygments_lexer": "ipython2",
   "version": "2.7.11"
  }
 },
 "nbformat": 4,
 "nbformat_minor": 0
}
